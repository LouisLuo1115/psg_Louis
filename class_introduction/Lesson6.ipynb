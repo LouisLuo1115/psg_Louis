{
 "cells": [
  {
   "cell_type": "markdown",
   "metadata": {},
   "source": [
    "## 繼承\n",
    "\n",
    "pizza 店的團隊可以用一個類來管理..."
   ]
  },
  {
   "cell_type": "code",
   "execution_count": 1,
   "metadata": {},
   "outputs": [
    {
     "name": "stdout",
     "output_type": "stream",
     "text": [
      "<Employee: name=bob, salary=50000>\n",
      "bob makes pizza\n",
      "<Employee: name=bob, salary=60000.0>\n",
      "\n",
      "Employee does stuff\n",
      "Chef makes food\n",
      "Server interfaces with customer\n",
      "PizzaRobot makes pizza\n"
     ]
    }
   ],
   "source": [
    "class Employee():\n",
    "    def __init__(self, name, salary=0):\n",
    "        self.name = name\n",
    "        self.salary = salary\n",
    "    def giveRaise(self, percent):\n",
    "        self.salary = self.salary + (self.salary * percent)\n",
    "    def work(self):\n",
    "        print(self.name, 'does stuff')\n",
    "    def __repr__(self):\n",
    "        return '<Employee: name=%s, salary=%s>' % (self.name, self.salary)\n",
    "\n",
    "class Chef(Employee):\n",
    "    def __init__(self, name):\n",
    "        Employee.__init__(self, name, salary=50000)\n",
    "    def work(self):\n",
    "        print(self.name, 'makes food')\n",
    "        \n",
    "class Server(Employee):\n",
    "    def __init__(self, name):\n",
    "        Employee.__init__(self, name, salary=40000)\n",
    "    def work(self):\n",
    "        print(self.name, 'interfaces with customer')\n",
    "        \n",
    "class PizzaRobot(Chef):\n",
    "    def __init__(self, name):\n",
    "        Chef.__init__(self, name)\n",
    "    def work(self):\n",
    "        print(self.name, 'makes pizza')\n",
    "        \n",
    "        \n",
    "if __name__ == '__main__':\n",
    "    bob = PizzaRobot('bob')\n",
    "    print(bob)\n",
    "    bob.work()\n",
    "    bob.giveRaise(0.20)\n",
    "    print(bob), print()\n",
    "    \n",
    "    for kclass in Employee, Chef, Server, PizzaRobot:\n",
    "        obj = kclass(kclass.__name__)\n",
    "        obj.work()\n",
    "            "
   ]
  },
  {
   "cell_type": "markdown",
   "metadata": {},
   "source": [
    "## 組合"
   ]
  },
  {
   "cell_type": "code",
   "execution_count": 2,
   "metadata": {},
   "outputs": [
    {
     "name": "stdout",
     "output_type": "stream",
     "text": [
      "Homer orders from <Employee: name=Pat, salary=40000>\n",
      "Bob makes pizza\n",
      "oven bakes\n",
      "Homer pays for item to <Employee: name=Pat, salary=40000>\n",
      "...\n",
      "Shaggy orders from <Employee: name=Pat, salary=40000>\n",
      "Bob makes pizza\n",
      "oven bakes\n",
      "Shaggy pays for item to <Employee: name=Pat, salary=40000>\n"
     ]
    }
   ],
   "source": [
    "class Customer:\n",
    "    def __init__(self, name):\n",
    "        self.name = name\n",
    "    def order(self, server):\n",
    "        print(self.name, 'orders from', server)\n",
    "    def pay(self, server):\n",
    "        print(self.name, 'pays for item to', server)\n",
    "        \n",
    "class Oven:\n",
    "    def bake(self):\n",
    "        print('oven bakes')\n",
    "        \n",
    "class PizzaShop:\n",
    "    def __init__(self):\n",
    "        self.server = Server('Pat')\n",
    "        self.chef = PizzaRobot('Bob')\n",
    "        self.oven = Oven()\n",
    "        \n",
    "    def order(self, name):\n",
    "        customer = Customer(name)\n",
    "        customer.order(self.server)\n",
    "        self.chef.work()\n",
    "        self.oven.bake()\n",
    "        customer.pay(self.server)\n",
    "        \n",
    "\n",
    "if __name__ == '__main__':\n",
    "    scene = PizzaShop()\n",
    "    scene.order('Homer')\n",
    "    print('...')\n",
    "    scene.order('Shaggy')"
   ]
  },
  {
   "cell_type": "markdown",
   "metadata": {},
   "source": [
    "## 委託\n",
    "指控制器對象內崁其他對象，而把運算請求傳給那些對象"
   ]
  },
  {
   "cell_type": "code",
   "execution_count": 3,
   "metadata": {},
   "outputs": [
    {
     "name": "stdout",
     "output_type": "stream",
     "text": [
      "Trace: append\n"
     ]
    },
    {
     "data": {
      "text/plain": [
       "[1, 2, 3, 4]"
      ]
     },
     "execution_count": 3,
     "metadata": {},
     "output_type": "execute_result"
    }
   ],
   "source": [
    "class wrapper:\n",
    "    def __init__(self, object):\n",
    "        self.wrapped = object\n",
    "    def __getattr__(self, attrname):\n",
    "        print('Trace:', attrname)\n",
    "        return getattr(self.wrapped, attrname)\n",
    "    \n",
    "x = wrapper([1,2,3])\n",
    "x.append(4)\n",
    "x.wrapped"
   ]
  },
  {
   "cell_type": "code",
   "execution_count": 4,
   "metadata": {},
   "outputs": [
    {
     "name": "stdout",
     "output_type": "stream",
     "text": [
      "Trace: keys\n"
     ]
    },
    {
     "data": {
      "text/plain": [
       "dict_keys(['1', '2'])"
      ]
     },
     "execution_count": 4,
     "metadata": {},
     "output_type": "execute_result"
    }
   ],
   "source": [
    "y = wrapper({'1':1, '2':2})\n",
    "y.keys()"
   ]
  },
  {
   "cell_type": "markdown",
   "metadata": {},
   "source": [
    "## 混合\n",
    "編寫混合顯示類"
   ]
  },
  {
   "cell_type": "code",
   "execution_count": 5,
   "metadata": {},
   "outputs": [],
   "source": [
    "class ListInstance:\n",
    "    def __str__(self):\n",
    "        return '<Instance of %s, address %s: \\n%s>' % (self.__class__.__name__, id(self), self.__attrnames())\n",
    "    \n",
    "    def __attrnames(self):\n",
    "        result = ''\n",
    "        for attr in sorted(self.__dict__):\n",
    "            result += '\\tname %s=%s\\n' % (attr, self.__dict__[attr])\n",
    "        return result"
   ]
  },
  {
   "cell_type": "code",
   "execution_count": 6,
   "metadata": {},
   "outputs": [
    {
     "name": "stdout",
     "output_type": "stream",
     "text": [
      "<Instance of Spam, address 4341773704: \n",
      "\tname data1=food\n",
      "\tname data2=sleep\n",
      ">\n"
     ]
    }
   ],
   "source": [
    "class Spam(ListInstance):\n",
    "    def __init__(self):\n",
    "        self.data1 = 'food'\n",
    "        self.data2 = 'sleep'\n",
    "        \n",
    "x = Spam()\n",
    "print(x)"
   ]
  },
  {
   "cell_type": "code",
   "execution_count": 7,
   "metadata": {},
   "outputs": [
    {
     "name": "stdout",
     "output_type": "stream",
     "text": [
      "<Instance of Sub, address 4341791936: \n",
      "\tname data1=spam\n",
      "\tname data2=eggs\n",
      "\tname data3=42\n",
      ">\n"
     ]
    }
   ],
   "source": [
    "class Super:\n",
    "    def __init__(self):\n",
    "        self.data1 = 'spam'\n",
    "    def ham(self):\n",
    "        pass\n",
    "    \n",
    "class Sub(Super, ListInstance):\n",
    "    def __init__(self):\n",
    "        Super.__init__(self)\n",
    "        self.data2 = 'eggs'\n",
    "        self.data3 = 42\n",
    "    def spam(self):\n",
    "        pass\n",
    "    \n",
    "if __name__ == '__main__':\n",
    "    X = Sub()\n",
    "    print(X)"
   ]
  },
  {
   "cell_type": "markdown",
   "metadata": {},
   "source": [
    "以上方法只能找出屬性，無法找出方法，所以我們可以..."
   ]
  },
  {
   "cell_type": "code",
   "execution_count": 8,
   "metadata": {},
   "outputs": [],
   "source": [
    "class ListInstance:\n",
    "    def __str__(self):\n",
    "        return '<Instance of %s, address %s: \\n%s>' % (self.__class__.__name__, id(self), self.__attrnames())\n",
    "    \n",
    "    def __attrnames(self):\n",
    "        result = ''\n",
    "        for attr in dir(self):\n",
    "            if attr[:2] == '__' and attr[-2:] == '__':\n",
    "                result += '\\tname %s=<>\\n' % attr\n",
    "            else:\n",
    "                result += '\\tname %s=%s\\n' %(attr, getattr(self, attr))\n",
    "        return result"
   ]
  },
  {
   "cell_type": "code",
   "execution_count": 9,
   "metadata": {},
   "outputs": [
    {
     "name": "stdout",
     "output_type": "stream",
     "text": [
      "<Instance of Sub, address 4341982600: \n",
      "\tname _ListInstance__attrnames=<bound method ListInstance.__attrnames of <__main__.Sub object at 0x102cd6588>>\n",
      "\tname __class__=<>\n",
      "\tname __delattr__=<>\n",
      "\tname __dict__=<>\n",
      "\tname __dir__=<>\n",
      "\tname __doc__=<>\n",
      "\tname __eq__=<>\n",
      "\tname __format__=<>\n",
      "\tname __ge__=<>\n",
      "\tname __getattribute__=<>\n",
      "\tname __gt__=<>\n",
      "\tname __hash__=<>\n",
      "\tname __init__=<>\n",
      "\tname __init_subclass__=<>\n",
      "\tname __le__=<>\n",
      "\tname __lt__=<>\n",
      "\tname __module__=<>\n",
      "\tname __ne__=<>\n",
      "\tname __new__=<>\n",
      "\tname __reduce__=<>\n",
      "\tname __reduce_ex__=<>\n",
      "\tname __repr__=<>\n",
      "\tname __setattr__=<>\n",
      "\tname __sizeof__=<>\n",
      "\tname __str__=<>\n",
      "\tname __subclasshook__=<>\n",
      "\tname __weakref__=<>\n",
      "\tname data1=spam\n",
      "\tname data2=eggs\n",
      "\tname data3=42\n",
      "\tname ham=<bound method Super.ham of <__main__.Sub object at 0x102cd6588>>\n",
      "\tname spam=<bound method Sub.spam of <__main__.Sub object at 0x102cd6588>>\n",
      ">\n"
     ]
    }
   ],
   "source": [
    "class Super:\n",
    "    def __init__(self):\n",
    "        self.data1 = 'spam'\n",
    "    def ham(self):\n",
    "        pass\n",
    "    \n",
    "class Sub(Super, ListInstance):\n",
    "    def __init__(self):\n",
    "        Super.__init__(self)\n",
    "        self.data2 = 'eggs'\n",
    "        self.data3 = 42\n",
    "    def spam(self):\n",
    "        pass\n",
    "    \n",
    "if __name__ == '__main__':\n",
    "    X = Sub()\n",
    "    print(X)"
   ]
  },
  {
   "cell_type": "code",
   "execution_count": null,
   "metadata": {},
   "outputs": [],
   "source": []
  }
 ],
 "metadata": {
  "kernelspec": {
   "display_name": "Python 3",
   "language": "python",
   "name": "python3"
  },
  "language_info": {
   "codemirror_mode": {
    "name": "ipython",
    "version": 3
   },
   "file_extension": ".py",
   "mimetype": "text/x-python",
   "name": "python",
   "nbconvert_exporter": "python",
   "pygments_lexer": "ipython3",
   "version": "3.6.5"
  }
 },
 "nbformat": 4,
 "nbformat_minor": 2
}
